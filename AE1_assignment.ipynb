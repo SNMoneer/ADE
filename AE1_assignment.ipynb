{
 "cells": [
  {
   "cell_type": "code",
   "id": "initial_id",
   "metadata": {
    "collapsed": true
   },
   "source": [
    "# Install all modules to help with data cleaning and storage\n",
    "!pip install flatdict==4.0.1\n",
    "!pip install google-cloud-bigquery\n",
    "!pip install --upgrade google-cloud-bigquery-storage"
   ],
   "outputs": [],
   "execution_count": null
  },
  {
   "metadata": {},
   "cell_type": "code",
   "source": [
    "# Import get and post requests from library\n",
    "from requests import get,post\n",
    "import os\n",
    "import flatdict\n",
    "from google.cloud import bigquery\n",
    "from google.oauth2 import service_account"
   ],
   "id": "1f527becde5a2872",
   "outputs": [],
   "execution_count": null
  },
  {
   "metadata": {},
   "cell_type": "code",
   "source": "# documentation - https://aviationstack.com/documentation",
   "id": "8d024b2f15edc9d7",
   "outputs": [],
   "execution_count": null
  },
  {
   "metadata": {},
   "cell_type": "code",
   "source": [
    "# Api keys\n",
    "# os.environ[\"API_KEY\"]\n",
    "key=\"a686bdcebdac602cfbb96ff529bd9cb8\"\n",
    "weather_api_key=\"0dc74d9415a7e5a964398b39942cf3d9\""
   ],
   "id": "9430813b7ddd2587",
   "outputs": [],
   "execution_count": null
  },
  {
   "metadata": {},
   "cell_type": "code",
   "source": [
    "# Get info on flights\n",
    "flights_url = \"http://api.aviationstack.com/v1/flights\"\n",
    "airlines_url = \"http://api.aviationstack.com/v1/airlines\"\n",
    "# Urls for api detailing current weather and historical weather\n",
    "current_weather_url = \"http://api.aviationstack.com/v1/current\"\n",
    "historical_weather_url = \"http://api.aviationstack.com/v1/historical\""
   ],
   "id": "8c1277d322667849",
   "outputs": [],
   "execution_count": null
  },
  {
   "metadata": {},
   "cell_type": "code",
   "source": [
    "# Helper function to get data from the apis\n",
    "def get_from_api(url,query,api_key=key):\n",
    "    return get(url+\"?access_key=\"+api_key+query).json()"
   ],
   "id": "12539b7b00ebf23b",
   "outputs": [],
   "execution_count": null
  },
  {
   "metadata": {},
   "cell_type": "code",
   "source": [
    "ba_flights = get_from_api(flights_url, \"&airline_iata=BA\")\n",
    "# try getting data current weather in london\n",
    "london_weather = get_from_api(current_weather_url, \"&query=london\", weather_api_key)\n",
    "london_weather"
   ],
   "id": "772891722bd0063c",
   "outputs": [],
   "execution_count": null
  },
  {
   "metadata": {},
   "cell_type": "code",
   "source": [
    "# Not used right now\n",
    "# [airline for airline in airlines['data'] if airline['airline_name'] == 'British Airways']"
   ],
   "id": "f4b6c8432e9279d3",
   "outputs": [],
   "execution_count": null
  },
  {
   "metadata": {},
   "cell_type": "code",
   "source": "ba_flights = get_from_api(flights_url, \"&airline_iata=BA&offset=100\")",
   "id": "2e1a35c85f126aae",
   "outputs": [],
   "execution_count": null
  },
  {
   "metadata": {},
   "cell_type": "code",
   "source": [
    "# Use Google's inbuilt functions to load in my keys for my account\n",
    "credentials = service_account.Credentials.from_service_account_file(\n",
    "    'credentials.json'\n",
    ")"
   ],
   "id": "6185b89627837126",
   "outputs": [],
   "execution_count": null
  },
  {
   "metadata": {},
   "cell_type": "code",
   "source": [
    "# Construct a BigQuery client object\n",
    "client = bigquery.Client(credentials=credentials)"
   ],
   "id": "4b2584ba1aac0792",
   "outputs": [],
   "execution_count": null
  },
  {
   "metadata": {},
   "cell_type": "code",
   "source": [
    "def create_dataset(dataset_id):\n",
    "    # Construct a full Dataset ID in the format `project.dataset`.\n",
    "    dataset_id = \"{}.{}\".format(client.project, dataset_id)\n",
    "\n",
    "    # Construct a Dataset object\n",
    "    dataset = bigquery.Dataset(dataset_id)\n",
    "\n",
    "    # Specify the geographic location where the dataset should reside\n",
    "    dataset.location = \"US\"\n",
    "\n",
    "    # Create the dataset\n",
    "    try:\n",
    "        dataset = client.create_dataset(dataset)  # API request\n",
    "        print(\"Created dataset {}.{}\".format(client.project, dataset.dataset_id))\n",
    "    except Exception as e:\n",
    "        print(\"Error in creating dataset: \", e)\n",
    "        \n",
    "# Make dataset\n",
    "create_dataset('weather_data')"
   ],
   "id": "47d1407ddf6589a6",
   "outputs": [],
   "execution_count": null
  },
  {
   "metadata": {},
   "cell_type": "code",
   "source": [
    "from google.cloud.bigquery import SchemaField\n",
    "\n",
    "# Use a schema to create a new table for each of the data sources, flights and weather\n",
    "def setup_bigquery_table():\n",
    "    # client = bigquery.Client(credentials=credentials)\n",
    "    table_id = \"{}.{}.{}\".format('data-engineering-416410', 'flight_data', 'BA flight info updated')\n",
    "    # table_id = \"{}.{}.{}\".format('data-engineering-416410', 'weather_data', 'weather info updated')\n",
    "    schema = [\n",
    "        SchemaField(\"Flight_date\", \"STRING\", mode=\"REQUIRED\"),\n",
    "        SchemaField(\"Flight_status\", \"STRING\", mode=\"REQUIRED\"),\n",
    "        SchemaField(\"Departure_airport\", \"STRING\", mode=\"REQUIRED\"),\n",
    "        SchemaField(\"Departure_timezone\", \"STRING\", mode=\"REQUIRED\"),\n",
    "        SchemaField(\"Departure_iota\", \"STRING\", mode=\"REQUIRED\"),\n",
    "        SchemaField(\"Departure_icao\", \"DATE\", mode=\"REQUIRED\"),\n",
    "        SchemaField(\"Departure_terminal\", \"STRING\", mode=\"REQUIRED\"),\n",
    "        SchemaField(\"Departure_gate\", \"INTEGER\", mode=\"REQUIRED\"),\n",
    "        SchemaField(\"Departure_delay\", \"INTEGER\", mode=\"REQUIRED\"),\n",
    "        SchemaField(\"Departure_scheduled\", \"INTEGER\", mode=\"REQUIRED\"),\n",
    "        SchemaField(\"Departure_estimated\", \"INTEGER\", mode=\"REQUIRED\"),\n",
    "        SchemaField(\"Departure_actual\", \"STRING\", mode=\"REQUIRED\"),\n",
    "        SchemaField(\"Departure_estimated_runway\", \"INTEGER\", mode=\"REQUIRED\"),\n",
    "        SchemaField(\"Departure_actual_runway\", \"INTEGER\", mode=\"REQUIRED\"),\n",
    "        SchemaField(\"Arrival_airport\", \"INTEGER\", mode=\"REQUIRED\"),\n",
    "        SchemaField(\"Arrival_timezone\", \"INTEGER\", mode=\"REQUIRED\"),\n",
    "        SchemaField(\"Arrival_iata\", \"INTEGER\", mode=\"REQUIRED\"),\n",
    "        SchemaField(\"Arrival_icao\", \"INTEGER\", mode=\"REQUIRED\"),\n",
    "        SchemaField(\"Arrival_terminal\", \"INTEGER\", mode=\"REQUIRED\"),\n",
    "        SchemaField(\"Arrival_gate\", \"STRING\", mode=\"REQUIRED\"),\n",
    "        SchemaField(\"Arrival_baggage\", \"STRING\", mode=\"REQUIRED\"),\n",
    "        SchemaField(\"Arrival_scheduled\", \"STRING\", mode=\"REQUIRED\"),\n",
    "        SchemaField(\"Arrival_estimated\", \"STRING\", mode=\"REQUIRED\"),\n",
    "        SchemaField(\"Arrival_actual\", \"STRING\", mode=\"REQUIRED\"),\n",
    "        SchemaField(\"Arrival_estimated_runway\", \"STRING\", mode=\"REQUIRED\"),\n",
    "        SchemaField(\"Arrival_actual_runway\", \"STRING\", mode=\"REQUIRED\"),\n",
    "        SchemaField(\"Airline_name\", \"STRING\", mode=\"REQUIRED\"),\n",
    "        SchemaField(\"Airline_icao\", \"STRING\", mode=\"REQUIRED\"),\n",
    "        SchemaField(\"Flight_code_shared_airline_name\", \"STRING\", mode=\"REQUIRED\"),\n",
    "    ]\n",
    "    \n",
    "    table = bigquery.Table(table_id, schema=schema)\n",
    "    try:\n",
    "        client.create_table(table)\n",
    "        print(\"Created table {}.{}.{}\".format(table.project, table.dataset_id, table.table_id))\n",
    "    except Exception as e:\n",
    "        print(\"Table creation encountered an error: \", e)\n",
    "\n",
    "# Call this function to make the table for weather data\n",
    "setup_bigquery_table()"
   ],
   "id": "cee92f42020909fb",
   "outputs": [],
   "execution_count": null
  },
  {
   "metadata": {},
   "cell_type": "markdown",
   "source": "# Process",
   "id": "f5114c7234363968"
  },
  {
   "metadata": {},
   "cell_type": "code",
   "source": [
    "# Send the rows to a bigquery table, depending on the table id provided. if no id is provided it will default to flight data\n",
    "def send_to_bigquery(rows_to_insert, table_id=\"data-engineering-416410.flight_data.BA flight info\"):\n",
    "\n",
    "    errors = client.insert_rows_json(table_id, rows_to_insert)  # Make an API request.\n",
    "    if not errors:\n",
    "        print(\"New rows have been added.\")\n",
    "    else:\n",
    "        print(\"Encountered errors while inserting rows: {}\".format(errors))"
   ],
   "id": "c0d2dd41a9fd8b0c",
   "outputs": [],
   "execution_count": null
  },
  {
   "metadata": {},
   "cell_type": "code",
   "source": [
    "# Flatten a deeply nested entry\n",
    "def flatten(row):\n",
    "    return dict(flatdict.FlatDict(row, delimiter=\"__\"))\n",
    "\n",
    "# This will format the times to be used in Google BigQuery\n",
    "def fix_datetime(dictionary):\n",
    "    dict_copy = dictionary.copy()\n",
    "    for entry in dict_copy.items():\n",
    "        if entry[0] in [\"departure__scheduled\",\"departure__estimated\",\"departure__actual\",\"departure__estimated_runway\",\"departure__actual_runway\",\"arrival__scheduled\",\"arrival__estimated\",\"arrival__actual\",\"arrival__estimated_runway\",\"arrival__actual_runway\", \"location__localtime\"]:\n",
    "            if entry[1] is not None:\n",
    "                dict_copy[entry[0]] = entry[1][:-6]\n",
    "    if dict_copy.get('flight_date'):\n",
    "        dict_copy['flight_date'] = dict_copy['flight_date']+\"T00:00:00\"\n",
    "    # del dict_copy['']\n",
    "    return dict_copy"
   ],
   "id": "f001f55939d50cd0",
   "outputs": [],
   "execution_count": null
  },
  {
   "metadata": {},
   "cell_type": "code",
   "source": [
    "def get_flight_data_and_add_to_bigquery():\n",
    "    for i in range(0,6000,100):\n",
    "        rows_to_insert = []\n",
    "        flight_page1 = get_from_api(flights_url,\"&airline_iata=BA&departure_iata=LHR&offset=\"+str(i))\n",
    "        for item in flight_page1['data']:\n",
    "           rows_to_insert.append(fix_datetime(flatten(item)))\n",
    "        send_to_bigquery(rows_to_insert)\n",
    "        rows_to_insert = []\n",
    "        flight_page2 = get_from_api(flights_url,\"&airline_iata=BA&arrival_iata=LHR&offset=\"+str(i))\n",
    "        for item in flight_page2['data']:\n",
    "           rows_to_insert.append(fix_datetime(flatten(item)))\n",
    "        send_to_bigquery(rows_to_insert)\n",
    "\n",
    "get_flight_data_and_add_to_bigquery()"
   ],
   "id": "8a2349fc58b89e8e",
   "outputs": [],
   "execution_count": null
  },
  {
   "metadata": {},
   "cell_type": "code",
   "source": [
    "# Get data on weather and then put this data into big query\n",
    "def get_weather_data_and_add_to_bigquery():\n",
    "    #for i in range(0,6000,100):\n",
    "    # Inquire for todays data, due to a limitation on how far back you can request data\n",
    "    for i in range(0,100,100):\n",
    "        rows_to_insert = []\n",
    "        weather_page = get_from_api(current_weather_url, \"&query=london\", weather_api_key)\n",
    "        rows_to_insert.append(fix_datetime(flatten(weather_page)))\n",
    "        send_to_bigquery(rows_to_insert, table_id='data-engineering-416410.weather_data.weather info updated')\n",
    "get_weather_data_and_add_to_bigquery()"
   ],
   "id": "efbd4bdc46ca9101",
   "outputs": [],
   "execution_count": null
  },
  {
   "metadata": {},
   "cell_type": "code",
   "source": "",
   "id": "3dfcc8aac88074d6",
   "outputs": [],
   "execution_count": null
  }
 ],
 "metadata": {
  "kernelspec": {
   "display_name": "Python 3",
   "language": "python",
   "name": "python3"
  },
  "language_info": {
   "codemirror_mode": {
    "name": "ipython",
    "version": 2
   },
   "file_extension": ".py",
   "mimetype": "text/x-python",
   "name": "python",
   "nbconvert_exporter": "python",
   "pygments_lexer": "ipython2",
   "version": "2.7.6"
  }
 },
 "nbformat": 4,
 "nbformat_minor": 5
}
