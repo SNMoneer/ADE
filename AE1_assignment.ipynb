{
 "cells": [
  {
   "cell_type": "code",
   "execution_count": null,
   "id": "initial_id",
   "metadata": {
    "collapsed": true
   },
   "outputs": [],
   "source": [
    "# install all modules to help with data cleaning and storage\n",
    "!pip install flatdict==4.0.1\n",
    "!pip install google-cloud-bigquery\n",
    "!pip install --upgrade google-cloud-bigquery-storage"
   ]
  },
  {
   "metadata": {},
   "cell_type": "code",
   "outputs": [],
   "execution_count": null,
   "source": [
    "# import get and post requests from lib\n",
    "from requests import get,post\n",
    "import os\n",
    "import flatdict\n",
    "from google.cloud import bigquery\n",
    "from google.oauth2 import service_account"
   ],
   "id": "1f527becde5a2872"
  },
  {
   "metadata": {},
   "cell_type": "code",
   "outputs": [],
   "execution_count": null,
   "source": "# documentation - https://aviationstack.com/documentation",
   "id": "8d024b2f15edc9d7"
  },
  {
   "metadata": {},
   "cell_type": "code",
   "outputs": [],
   "execution_count": null,
   "source": [
    "# api keys\n",
    "# os.environ[\"API_KEY\"]\n",
    "key=\"a686bdcebdac602cfbb96ff529bd9cb8\"\n",
    "weather_api_key=\"0dc74d9415a7e5a964398b39942cf3d9\""
   ],
   "id": "9430813b7ddd2587"
  },
  {
   "metadata": {},
   "cell_type": "code",
   "outputs": [],
   "execution_count": null,
   "source": [
    "# get info on flights\n",
    "flights_url = \"http://api.aviationstack.com/v1/flights\"\n",
    "airlines_url = \"http://api.aviationstack.com/v1/airlines\"\n",
    "# urls for api detailing current weather and historical weather\n",
    "current_weather_url = \"http://api.aviationstack.com/v1/current\"\n",
    "historical_weather_url = \"http://api.aviationstack.com/v1/historical\""
   ],
   "id": "8c1277d322667849"
  },
  {
   "metadata": {},
   "cell_type": "code",
   "outputs": [],
   "execution_count": null,
   "source": [
    "# helper function to get data from the apis\n",
    "def get_from_api(url,query,api_key=key):\n",
    "    return get(url+\"?access_key=\"+api_key+query).json()"
   ],
   "id": "12539b7b00ebf23b"
  },
  {
   "metadata": {},
   "cell_type": "code",
   "outputs": [],
   "execution_count": null,
   "source": [
    "ba_flights = get_from_api(flights_url, \"&airline_iata=BA\")\n",
    "# try getting data current weather in new york\n",
    "london_weather = get_from_api(current_weather_url, \"&query=london\", weather_api_key)\n",
    "london_weather"
   ],
   "id": "772891722bd0063c"
  },
  {
   "metadata": {},
   "cell_type": "code",
   "outputs": [],
   "execution_count": null,
   "source": [
    "# not used right now\n",
    "# [airline for airline in airlines['data'] if airline['airline_name'] == 'British Airways']"
   ],
   "id": "f4b6c8432e9279d3"
  },
  {
   "metadata": {},
   "cell_type": "code",
   "outputs": [],
   "execution_count": null,
   "source": "ba_flights = get_from_api(flights_url, \"&airline_iata=BA&offset=100\")",
   "id": "2e1a35c85f126aae"
  },
  {
   "metadata": {},
   "cell_type": "code",
   "outputs": [],
   "execution_count": null,
   "source": [
    "# use Google's inbuilt functions to load in my keys for my account\n",
    "credentials = service_account.Credentials.from_service_account_file(\n",
    "    'credentials.json'\n",
    ")"
   ],
   "id": "6185b89627837126"
  },
  {
   "metadata": {},
   "cell_type": "code",
   "outputs": [],
   "execution_count": null,
   "source": [
    "# Construct a BigQuery client object.\n",
    "client = bigquery.Client(credentials=credentials)\n",
    "\n",
    "# send the rows to a bigquery table, depending on the table id provided. if no id is provided it will default to flight data\n",
    "def send_to_bigquery(rows_to_insert, table_id=\"data-engineering-416410.flight_data.BA flight info\"):\n",
    "\n",
    "    errors = client.insert_rows_json(table_id, rows_to_insert)  # Make an API request.\n",
    "    if not errors:\n",
    "        print(\"New rows have been added.\")\n",
    "    else:\n",
    "        print(\"Encountered errors while inserting rows: {}\".format(errors))"
   ],
   "id": "35165f200208b9e0"
  },
  {
   "metadata": {},
   "cell_type": "markdown",
   "source": "# Process",
   "id": "f5114c7234363968"
  },
  {
   "metadata": {},
   "cell_type": "code",
   "outputs": [],
   "execution_count": null,
   "source": [
    "# flatten a deeply nested entry\n",
    "def flatten(row):\n",
    "    return dict(flatdict.FlatDict(row, delimiter=\"__\"))\n",
    "\n",
    "# this will format the times to be used in google big query\n",
    "def fix_datetime(dictionary):\n",
    "    dict_copy = dictionary.copy()\n",
    "    for entry in dict_copy.items():\n",
    "        if entry[0] in [\"departure__scheduled\",\"departure__estimated\",\"departure__actual\",\"departure__estimated_runway\",\"departure__actual_runway\",\"arrival__scheduled\",\"arrival__estimated\",\"arrival__actual\",\"arrival__estimated_runway\",\"arrival__actual_runway\", \"\"]:\n",
    "            if entry[1] is not None:\n",
    "                dict_copy[entry[0]] = entry[1][:-6]\n",
    "    dict_copy['flight_date'] = dict_copy['flight_date']+\"T00:00:00\"\n",
    "    # del dict_copy['']\n",
    "    return dict_copy"
   ],
   "id": "f001f55939d50cd0"
  },
  {
   "metadata": {},
   "cell_type": "code",
   "outputs": [],
   "execution_count": null,
   "source": [
    "def get_flight_data_and_add_to_bigquery():\n",
    "    for i in range(0,6000,100):\n",
    "    # for i in range(0,100,100):\n",
    "        rows_to_insert = []\n",
    "        flight_page = get_from_api(flights_url,\"&airline_iata=BA&offset=\"+str(i))\n",
    "        for item in flight_page['data']:\n",
    "           rows_to_insert.append(fix_datetime(flatten(item)))\n",
    "        send_to_bigquery(rows_to_insert)\n",
    "get_flight_data_and_add_to_bigquery()"
   ],
   "id": "8a2349fc58b89e8e"
  },
  {
   "metadata": {},
   "cell_type": "code",
   "outputs": [],
   "execution_count": null,
   "source": [
    "# get data on weather and then put this data into big query\n",
    "def get_weather_data_and_add_to_bigquery():\n",
    "    #for i in range(0,6000,100):\n",
    "    for i in range(0,100,100):\n",
    "        rows_to_insert = []\n",
    "        weather_page = get_from_api(current_weather_url, \"&query=New York\", weather_api_key)\n",
    "        # flight_page = get_from_api(flights_url,\"&airline_iata=BA&offset=\"+str(i))\n",
    "        for item in weather_page['data']:\n",
    "           rows_to_insert.append(fix_datetime(flatten(item)))\n",
    "        send_to_bigquery(rows_to_insert, table_id='data-engineering-416410.weather')\n",
    "get_weather_data_and_add_to_bigquery()"
   ],
   "id": "efbd4bdc46ca9101"
  }
 ],
 "metadata": {
  "kernelspec": {
   "display_name": "Python 3",
   "language": "python",
   "name": "python3"
  },
  "language_info": {
   "codemirror_mode": {
    "name": "ipython",
    "version": 2
   },
   "file_extension": ".py",
   "mimetype": "text/x-python",
   "name": "python",
   "nbconvert_exporter": "python",
   "pygments_lexer": "ipython2",
   "version": "2.7.6"
  }
 },
 "nbformat": 4,
 "nbformat_minor": 5
}
