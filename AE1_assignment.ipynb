{
 "cells": [
  {
   "cell_type": "code",
   "execution_count": null,
   "id": "initial_id",
   "metadata": {
    "collapsed": true
   },
   "outputs": [],
   "source": [
    "# install all modules to help with data cleaning and storage\n",
    "!pip install flatdict==4.0.1\n",
    "!pip install google-cloud-bigquery\n",
    "!pip install --upgrade google-cloud-bigquery-storage"
   ]
  },
  {
   "metadata": {},
   "cell_type": "code",
   "outputs": [],
   "execution_count": null,
   "source": [
    "# import get and post requests from lib\n",
    "from requests import get,post\n",
    "import os\n",
    "import flatdict\n",
    "from google.cloud import bigquery\n",
    "from google.oauth2 import service_account"
   ],
   "id": "1f527becde5a2872"
  },
  {
   "metadata": {},
   "cell_type": "code",
   "outputs": [],
   "execution_count": null,
   "source": "# documentation - https://aviationstack.com/documentation",
   "id": "8d024b2f15edc9d7"
  },
  {
   "metadata": {},
   "cell_type": "code",
   "outputs": [],
   "execution_count": null,
   "source": [
    "# api keys\n",
    "# os.environ[\"API_KEY\"]\n",
    "key=\"a686bdcebdac602cfbb96ff529bd9cb8\"\n",
    "weather_api_key=\"0dc74d9415a7e5a964398b39942cf3d9\""
   ],
   "id": "9430813b7ddd2587"
  }
 ],
 "metadata": {
  "kernelspec": {
   "display_name": "Python 3",
   "language": "python",
   "name": "python3"
  },
  "language_info": {
   "codemirror_mode": {
    "name": "ipython",
    "version": 2
   },
   "file_extension": ".py",
   "mimetype": "text/x-python",
   "name": "python",
   "nbconvert_exporter": "python",
   "pygments_lexer": "ipython2",
   "version": "2.7.6"
  }
 },
 "nbformat": 4,
 "nbformat_minor": 5
}
