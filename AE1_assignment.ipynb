{
 "cells": [
  {
   "cell_type": "code",
   "execution_count": null,
   "id": "initial_id",
   "metadata": {
    "collapsed": true
   },
   "outputs": [],
   "source": [
    "# install all modules to help with data cleaning and storage\n",
    "!pip install flatdict==4.0.1\n",
    "!pip install google-cloud-bigquery\n",
    "!pip install --upgrade google-cloud-bigquery-storage"
   ]
  },
  {
   "metadata": {},
   "cell_type": "code",
   "outputs": [],
   "execution_count": null,
   "source": [
    "# import get and post requests from lib\n",
    "from requests import get,post\n",
    "import os\n",
    "import flatdict\n",
    "from google.cloud import bigquery\n",
    "from google.oauth2 import service_account"
   ],
   "id": "1f527becde5a2872"
  },
  {
   "metadata": {},
   "cell_type": "code",
   "outputs": [],
   "execution_count": null,
   "source": "# documentation - https://aviationstack.com/documentation",
   "id": "8d024b2f15edc9d7"
  },
  {
   "metadata": {},
   "cell_type": "code",
   "outputs": [],
   "execution_count": null,
   "source": [
    "# api keys\n",
    "# os.environ[\"API_KEY\"]\n",
    "key=\"a686bdcebdac602cfbb96ff529bd9cb8\"\n",
    "weather_api_key=\"0dc74d9415a7e5a964398b39942cf3d9\""
   ],
   "id": "9430813b7ddd2587"
  },
  {
   "metadata": {},
   "cell_type": "code",
   "outputs": [],
   "execution_count": null,
   "source": [
    "# get info on flights\n",
    "flights_url = \"http://api.aviationstack.com/v1/flights\"\n",
    "airlines_url = \"http://api.aviationstack.com/v1/airlines\"\n",
    "# urls for api detailing current weather and historical weather\n",
    "current_weather_url = \"http://api.aviationstack.com/v1/current\"\n",
    "historical_weather_url = \"http://api.aviationstack.com/v1/historical\""
   ],
   "id": "8c1277d322667849"
  },
  {
   "metadata": {},
   "cell_type": "code",
   "outputs": [],
   "execution_count": null,
   "source": [
    "# helper function to get data from the apis\n",
    "def get_from_api(url,query,api_key=key):\n",
    "    return get(url+\"?access_key=\"+api_key+query).json()"
   ],
   "id": "12539b7b00ebf23b"
  },
  {
   "metadata": {},
   "cell_type": "code",
   "outputs": [],
   "execution_count": null,
   "source": [
    "ba_flights = get_from_api(flights_url, \"&airline_iata=BA\")\n",
    "# try getting data current weather in new york\n",
    "london_weather = get_from_api(current_weather_url, \"&query=london\", weather_api_key)\n",
    "london_weather"
   ],
   "id": "772891722bd0063c"
  }
 ],
 "metadata": {
  "kernelspec": {
   "display_name": "Python 3",
   "language": "python",
   "name": "python3"
  },
  "language_info": {
   "codemirror_mode": {
    "name": "ipython",
    "version": 2
   },
   "file_extension": ".py",
   "mimetype": "text/x-python",
   "name": "python",
   "nbconvert_exporter": "python",
   "pygments_lexer": "ipython2",
   "version": "2.7.6"
  }
 },
 "nbformat": 4,
 "nbformat_minor": 5
}
